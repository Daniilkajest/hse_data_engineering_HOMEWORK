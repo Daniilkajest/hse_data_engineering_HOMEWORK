{
  "metadata": {
    "kernelspec": {
      "name": "xpython",
      "display_name": "Python 3.13 (XPython)",
      "language": "python"
    },
    "language_info": {
      "file_extension": ".py",
      "mimetype": "text/x-python",
      "name": "python",
      "version": "3.13.1"
    }
  },
  "nbformat_minor": 5,
  "nbformat": 4,
  "cells": [
    {
      "id": "5489ae7f-fea3-4489-8e8e-b39ecb83fff4",
      "cell_type": "code",
      "source": "import json\n\n# Создание исходных файлов\nwith open('purchase_log.txt', 'w', encoding='utf-8') as f:\n    f.write('{\"user_id\": \"1840e0b9d4\", \"category\": \"Продукты\"}\\n')\n    f.write('{\"user_id\": \"4e4f90fcfb\", \"category\": \"Электроника\"}\\n')\n    f.write('{\"user_id\": \"afea8d72fc\", \"category\": \"Электроника\"}\\n')\n    f.write('{\"user_id\": \"373a6055fe\", \"category\": \"Бытовая техника\"}\\n')\n    f.write('{\"user_id\": \"9b2ab046f3\", \"category\": \"Электроника\"}\\n')\n\nwith open('visit_log.csv', 'w', encoding='utf-8') as f:\n    f.write('user_id,source\\n')\n    f.write('1840e0b9d4,other\\n')\n    f.write('4e4f90fcfb,context\\n')\n    f.write('a159bf4b98,other\\n')\n    f.write('afea8d72fc,other\\n')\n\n# --- Задание 1 ---\npurchases = {}\nwith open('purchase_log.txt', 'r', encoding='utf-8') as f:\n    for line in f:\n        data = json.loads(line)\n        purchases[data['user_id']] = data['category']\n\nprint(\"--- Задание 1 ---\")\ncount = 0\nfor user_id, category in purchases.items():\n    if count < 2:\n        print(f\"{user_id} '{category}'\")\n        count += 1\n    else:\n        break\n\n# --- Задание 2 ---\nwith open('visit_log.csv', 'r', encoding='utf-8') as f_visit, \\\n     open('funnel.csv', 'w', encoding='utf-8') as f_funnel:\n    \n    next(f_visit) # Пропускаем заголовок\n    f_funnel.write('user_id,source,category\\n')\n    \n    for line in f_visit:\n        user_id, source = line.strip().split(',')\n        \n        if user_id in purchases:\n            category = purchases[user_id]\n            f_funnel.write(f'{user_id},{source},{category}\\n')\n\nprint(\"\\n--- Задание 2 ---\")\nwith open('funnel.csv', 'r', encoding='utf-8') as f:\n    for i in range(3):\n        print(f.readline().strip())",
      "metadata": {
        "trusted": true
      },
      "outputs": [
        {
          "name": "stdout",
          "output_type": "stream",
          "text": "--- Задание 1 ---\n1840e0b9d4 'Продукты'\n4e4f90fcfb 'Электроника'\n\n--- Задание 2 ---\nuser_id,source,category\n1840e0b9d4,other,Продукты\n4e4f90fcfb,context,Электроника\n"
        }
      ],
      "execution_count": 1
    },
    {
      "id": "5437411b-d033-4dcd-b4f8-8fe332b4dd6d",
      "cell_type": "code",
      "source": "",
      "metadata": {
        "trusted": true
      },
      "outputs": [],
      "execution_count": null
    }
  ]
}